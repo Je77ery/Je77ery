{
 "cells": [
  {
   "cell_type": "code",
   "execution_count": null,
   "id": "dd32cb10",
   "metadata": {},
   "outputs": [],
   "source": [
    "from tkinter import *\n",
    "\n",
    "class TrafficLights:\n",
    "    def __init__(self):\n",
    "        \n",
    "        window = Tk()\n",
    "        window.title(\"Traffic Light\")\n",
    "        \n",
    "        frame = Frame(window)\n",
    "        frame.pack()\n",
    "        \n",
    "        self.color = StringVar()\n",
    "        \n",
    "        radio_red = Radiobutton(frame, text=\"Red\", bg=\"red\", variable=self.color, value=\"R\", command=self.on_RadioChange)\n",
    "        radio_red.grid(row=10, column=1)\n",
    "        \n",
    "        \n",
    "        radio_yellow = Radiobutton(frame, text=\"Yellow\", bg=\"yellow\", variable=self.color, value=\"Y\", command=self.on_RadioChange)\n",
    "        radio_yellow.grid(row=10, column=2)\n",
    "        \n",
    "        radio_green = Radiobutton(frame, text=\"Green\", bg=\"green\", variable=self.color, value=\"G\", command=self.on_RadioChange)\n",
    "        radio_green.grid(row=10, column=3)\n",
    "        \n",
    "        self.canvas = Canvas(window, width=120, height=120, bg=\"white\")\n",
    "        self.canvas.pack()\n",
    "        self.canvas1 = Canvas(window, width=120, height=120, bg=\"white\")\n",
    "        self.canvas1.pack()\n",
    "        self.canvas2 = Canvas(window, width=120, height=120, bg=\"white\")\n",
    "        self.canvas2.pack()\n",
    "        \n",
    "        self.oval_red = self.canvas.create_oval(10, 10, 110, 110, fill=\"white\")\n",
    "        self.oval_yellow = self.canvas1.create_oval(10, 10, 110, 110, fill=\"white\")\n",
    "        self.oval_green = self.canvas2.create_oval(10, 10, 110, 110, fill=\"white\")\n",
    "        \n",
    "        self.color.set('R')\n",
    "        self.canvas.itemconfig(self.oval_red, fill=\"red\")\n",
    "        \n",
    "        window.mainloop()\n",
    "        \n",
    "    def on_RadioChange(self):\n",
    "        color = self.color.get()\n",
    "        \n",
    "        if color == 'R':\n",
    "            self.canvas.itemconfig(self.oval_red, fill=\"red\")\n",
    "            self.canvas1.itemconfig(self.oval_yellow, fill=\"white\")\n",
    "            self.canvas2.itemconfig(self.oval_green, fill=\"white\")\n",
    "        elif color == 'Y':\n",
    "            self.canvas.itemconfig(self.oval_red, fill=\"white\")\n",
    "            self.canvas1.itemconfig(self.oval_yellow, fill=\"yellow\")\n",
    "            self.canvas2.itemconfig(self.oval_green, fill=\"white\")\n",
    "        elif color == 'G':\n",
    "            self.canvas.itemconfig(self.oval_red, fill=\"white\")\n",
    "            self.canvas1.itemconfig(self.oval_yellow, fill=\"white\")\n",
    "            self.canvas2.itemconfig(self.oval_green, fill=\"green\")\n",
    "            \n",
    "TrafficLights()"
   ]
  },
  {
   "cell_type": "code",
   "execution_count": null,
   "id": "c3648b51",
   "metadata": {},
   "outputs": [],
   "source": [
    "import pandas as pd"
   ]
  }
 ],
 "metadata": {
  "kernelspec": {
   "display_name": "Python 3 (ipykernel)",
   "language": "python",
   "name": "python3"
  },
  "language_info": {
   "codemirror_mode": {
    "name": "ipython",
    "version": 3
   },
   "file_extension": ".py",
   "mimetype": "text/x-python",
   "name": "python",
   "nbconvert_exporter": "python",
   "pygments_lexer": "ipython3",
   "version": "3.9.12"
  }
 },
 "nbformat": 4,
 "nbformat_minor": 5
}
